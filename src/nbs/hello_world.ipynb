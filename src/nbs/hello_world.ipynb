{
 "cells": [
  {
   "cell_type": "code",
   "execution_count": 2,
   "id": "bdebc952-bdb9-4fcc-8e17-78b0ed40f3b3",
   "metadata": {},
   "outputs": [
    {
     "name": "stdout",
     "output_type": "stream",
     "text": [
      "/home/ankit/Documents/development/ai/django-slack-bot/src/nbs\n"
     ]
    }
   ],
   "source": [
    "import setup\n",
    "!pwd\n"
   ]
  },
  {
   "cell_type": "code",
   "execution_count": 3,
   "id": "f241439e-9cb5-4dd3-9e79-cc7c2720aa7a",
   "metadata": {},
   "outputs": [],
   "source": [
    "setup.init_django()"
   ]
  },
  {
   "cell_type": "code",
   "execution_count": 6,
   "id": "d049bd7c-b01f-4f96-a1d7-1e343e81efa5",
   "metadata": {},
   "outputs": [
    {
     "data": {
      "text/plain": [
       "PosixPath('/home/ankit/Documents/development/ai/django-slack-bot/src')"
      ]
     },
     "execution_count": 6,
     "metadata": {},
     "output_type": "execute_result"
    }
   ],
   "source": [
    "from django.conf import settings\n",
    "settings.BASE_DIR"
   ]
  },
  {
   "cell_type": "code",
   "execution_count": null,
   "id": "c0af87bb-82e8-4c7b-8393-ce7886dfd55e",
   "metadata": {},
   "outputs": [],
   "source": []
  }
 ],
 "metadata": {
  "kernelspec": {
   "display_name": "Python 3 (ipykernel)",
   "language": "python",
   "name": "python3"
  },
  "language_info": {
   "codemirror_mode": {
    "name": "ipython",
    "version": 3
   },
   "file_extension": ".py",
   "mimetype": "text/x-python",
   "name": "python",
   "nbconvert_exporter": "python",
   "pygments_lexer": "ipython3",
   "version": "3.10.12"
  }
 },
 "nbformat": 4,
 "nbformat_minor": 5
}
